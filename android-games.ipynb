{
 "cells": [
  {
   "cell_type": "markdown",
   "metadata": {},
   "source": [
    "# Data Visualisation Coursework Template\n",
    "\n",
    "- These headings are only a recommended structure.\n",
    "- The wordcount code only works in Jupyter Notebook! You can still use JupyterLab to produce your report if you wish but you will need to use Jupyter Notebook to check the number of words.\n",
    "- Please delete this text!"
   ]
  },
  {
   "cell_type": "markdown",
   "metadata": {},
   "source": [
    "## Title: Pricing and Performance: A Study of Mobile Games on the Google Play Store\n",
    "\n",
    "by PEI-HENG MA\n",
    "\n",
    "The mobile gaming industry is a rapidly growing and highly profitable market, with billions of users around the world downloading and playing games on their smartphones and tablets. However, while many mobile games are available for free, others require users to pay in order to download and play. This raises questions about the impact of pricing on mobile game success, and whether paid games perform better or worse than free games in terms of ratings, installs, and average rating. In this research paper, I will examine the relationship between pricing and performance for mobile games on the Google Play Store, using data from the top 100 games of each category.\n",
    "\n",
    "According to a study by Hamari et al.(2020), the freemium business model is peculiar in a way that increasing perceived value of the freemium service (i.e. enjoyment) may both add to and retract from future profitability via increased retention on one hand, reduced monetization on the other. The study found that the more enjoyable the players perceive the service to be, the more they are willing to use it, however, the less they are willing to purchase premium content. Social value was found to be positively associated with purchasing game content. Quality of the freemium service was not associated with purchase intentions. The economical value of the freemium service had a positive association with the intention to continue using the freemium service, but it had no direct association with intentions to purchase premium content. The economical value only had an indirect association with purchases through the increased willingness to continue using the freemium service.\n",
    "\n",
    "Using the dataset from Kaggle, this data analysis provides a wealth of information about the performance and popularity of mobile games, including data on total ratings, installs, average rating, growth over time, and pricing. This dataset offers an opportunity to investigate important questions about the mobile gaming industry, such as the impact of pricing on mobile game success. By analyzing this data, we can gain a deeper understanding of the factors that influence the popularity and performance of mobile games, and inform strategies for pricing and monetizing mobile games."
   ]
  },
  {
   "cell_type": "code",
   "execution_count": 1,
   "metadata": {},
   "outputs": [],
   "source": [
    "%matplotlib inline"
   ]
  },
  {
   "cell_type": "code",
   "execution_count": 2,
   "metadata": {},
   "outputs": [],
   "source": [
    "import numpy as np\n",
    "import pandas as pd\n",
    "import matplotlib as mpl\n",
    "import matplotlib.pyplot as plt\n",
    "import seaborn as sns\n",
    "\n",
    "# For unit testing answers.\n",
    "from unittest.mock import patch"
   ]
  },
  {
   "cell_type": "code",
   "execution_count": 3,
   "metadata": {},
   "outputs": [
    {
     "data": {
      "text/html": [
       "<div>\n",
       "<style scoped>\n",
       "    .dataframe tbody tr th:only-of-type {\n",
       "        vertical-align: middle;\n",
       "    }\n",
       "\n",
       "    .dataframe tbody tr th {\n",
       "        vertical-align: top;\n",
       "    }\n",
       "\n",
       "    .dataframe thead th {\n",
       "        text-align: right;\n",
       "    }\n",
       "</style>\n",
       "<table border=\"1\" class=\"dataframe\">\n",
       "  <thead>\n",
       "    <tr style=\"text-align: right;\">\n",
       "      <th></th>\n",
       "      <th>rank</th>\n",
       "      <th>title</th>\n",
       "      <th>total ratings</th>\n",
       "      <th>installs</th>\n",
       "      <th>average rating</th>\n",
       "      <th>growth (30 days)</th>\n",
       "      <th>growth (60 days)</th>\n",
       "      <th>price</th>\n",
       "      <th>category</th>\n",
       "      <th>5 star ratings</th>\n",
       "      <th>4 star ratings</th>\n",
       "      <th>3 star ratings</th>\n",
       "      <th>2 star ratings</th>\n",
       "      <th>1 star ratings</th>\n",
       "      <th>paid</th>\n",
       "    </tr>\n",
       "  </thead>\n",
       "  <tbody>\n",
       "    <tr>\n",
       "      <th>0</th>\n",
       "      <td>1</td>\n",
       "      <td>Garena Free Fire- World Series</td>\n",
       "      <td>86273129</td>\n",
       "      <td>500.0 M</td>\n",
       "      <td>4</td>\n",
       "      <td>2.1</td>\n",
       "      <td>6.9</td>\n",
       "      <td>0.0</td>\n",
       "      <td>GAME ACTION</td>\n",
       "      <td>63546766</td>\n",
       "      <td>4949507</td>\n",
       "      <td>3158756</td>\n",
       "      <td>2122183</td>\n",
       "      <td>12495915</td>\n",
       "      <td>False</td>\n",
       "    </tr>\n",
       "    <tr>\n",
       "      <th>1</th>\n",
       "      <td>2</td>\n",
       "      <td>PUBG MOBILE - Traverse</td>\n",
       "      <td>37276732</td>\n",
       "      <td>500.0 M</td>\n",
       "      <td>4</td>\n",
       "      <td>1.8</td>\n",
       "      <td>3.6</td>\n",
       "      <td>0.0</td>\n",
       "      <td>GAME ACTION</td>\n",
       "      <td>28339753</td>\n",
       "      <td>2164478</td>\n",
       "      <td>1253185</td>\n",
       "      <td>809821</td>\n",
       "      <td>4709492</td>\n",
       "      <td>False</td>\n",
       "    </tr>\n",
       "    <tr>\n",
       "      <th>2</th>\n",
       "      <td>3</td>\n",
       "      <td>Mobile Legends: Bang Bang</td>\n",
       "      <td>26663595</td>\n",
       "      <td>100.0 M</td>\n",
       "      <td>4</td>\n",
       "      <td>1.5</td>\n",
       "      <td>3.2</td>\n",
       "      <td>0.0</td>\n",
       "      <td>GAME ACTION</td>\n",
       "      <td>18777988</td>\n",
       "      <td>1812094</td>\n",
       "      <td>1050600</td>\n",
       "      <td>713912</td>\n",
       "      <td>4308998</td>\n",
       "      <td>False</td>\n",
       "    </tr>\n",
       "    <tr>\n",
       "      <th>3</th>\n",
       "      <td>4</td>\n",
       "      <td>Brawl Stars</td>\n",
       "      <td>17971552</td>\n",
       "      <td>100.0 M</td>\n",
       "      <td>4</td>\n",
       "      <td>1.4</td>\n",
       "      <td>4.4</td>\n",
       "      <td>0.0</td>\n",
       "      <td>GAME ACTION</td>\n",
       "      <td>13018610</td>\n",
       "      <td>1552950</td>\n",
       "      <td>774012</td>\n",
       "      <td>406184</td>\n",
       "      <td>2219794</td>\n",
       "      <td>False</td>\n",
       "    </tr>\n",
       "    <tr>\n",
       "      <th>4</th>\n",
       "      <td>5</td>\n",
       "      <td>Sniper 3D: Fun Free Online FPS Shooting Game</td>\n",
       "      <td>14464235</td>\n",
       "      <td>500.0 M</td>\n",
       "      <td>4</td>\n",
       "      <td>0.8</td>\n",
       "      <td>1.5</td>\n",
       "      <td>0.0</td>\n",
       "      <td>GAME ACTION</td>\n",
       "      <td>9827328</td>\n",
       "      <td>2124154</td>\n",
       "      <td>1047741</td>\n",
       "      <td>380670</td>\n",
       "      <td>1084340</td>\n",
       "      <td>False</td>\n",
       "    </tr>\n",
       "  </tbody>\n",
       "</table>\n",
       "</div>"
      ],
      "text/plain": [
       "   rank                                         title  total ratings installs  \\\n",
       "0     1                Garena Free Fire- World Series       86273129  500.0 M   \n",
       "1     2                        PUBG MOBILE - Traverse       37276732  500.0 M   \n",
       "2     3                     Mobile Legends: Bang Bang       26663595  100.0 M   \n",
       "3     4                                   Brawl Stars       17971552  100.0 M   \n",
       "4     5  Sniper 3D: Fun Free Online FPS Shooting Game       14464235  500.0 M   \n",
       "\n",
       "   average rating  growth (30 days)  growth (60 days)  price     category  \\\n",
       "0               4               2.1               6.9    0.0  GAME ACTION   \n",
       "1               4               1.8               3.6    0.0  GAME ACTION   \n",
       "2               4               1.5               3.2    0.0  GAME ACTION   \n",
       "3               4               1.4               4.4    0.0  GAME ACTION   \n",
       "4               4               0.8               1.5    0.0  GAME ACTION   \n",
       "\n",
       "   5 star ratings  4 star ratings  3 star ratings  2 star ratings  \\\n",
       "0        63546766         4949507         3158756         2122183   \n",
       "1        28339753         2164478         1253185          809821   \n",
       "2        18777988         1812094         1050600          713912   \n",
       "3        13018610         1552950          774012          406184   \n",
       "4         9827328         2124154         1047741          380670   \n",
       "\n",
       "   1 star ratings   paid  \n",
       "0        12495915  False  \n",
       "1         4709492  False  \n",
       "2         4308998  False  \n",
       "3         2219794  False  \n",
       "4         1084340  False  "
      ]
     },
     "execution_count": 3,
     "metadata": {},
     "output_type": "execute_result"
    }
   ],
   "source": [
    "df = pd.read_csv('./android-games1.csv')\n",
    "\n",
    "\n",
    "df.head()"
   ]
  },
  {
   "cell_type": "markdown",
   "metadata": {},
   "source": [
    "## Research  topic\n",
    "\n",
    "## Research questions\n",
    "1. How does the growth of a game in terms of ratings over the past 30 days and 60 days compare, and how does this growth differ across different game categories?\n",
    "2. What is the relationship between price and installs for mobile games on the Google Play Store?\n",
    "3. How does rank relate to the popularity and performance of mobile games on the Google Play Store, and how does this differ across different game categories?"
   ]
  },
  {
   "cell_type": "markdown",
   "metadata": {},
   "source": [
    "## Data collection\n",
    "\n",
    "The \"Top Games on Google Play Store\" dataset is a collection of data on the top 100 games of each category of games on the Google Play Store. The data includes information on the rank, title, total ratings, installs, average rating, growth (30 days) and growth (60 days), price, category, number of 5 star, 4 star, 3 star, 2 star, 1 star ratings and paid status of each game. The data was sourced from Kaggle and is in CSV format."
   ]
  },
  {
   "cell_type": "markdown",
   "metadata": {},
   "source": [
    "## Data overview \n",
    "\n",
    "The following code gives a data overview"
   ]
  },
  {
   "cell_type": "code",
   "execution_count": 4,
   "metadata": {},
   "outputs": [
    {
     "name": "stdout",
     "output_type": "stream",
     "text": [
      "   rank                                         title  total ratings installs  \\\n",
      "0     1                Garena Free Fire- World Series       86273129  500.0 M   \n",
      "1     2                        PUBG MOBILE - Traverse       37276732  500.0 M   \n",
      "2     3                     Mobile Legends: Bang Bang       26663595  100.0 M   \n",
      "3     4                                   Brawl Stars       17971552  100.0 M   \n",
      "4     5  Sniper 3D: Fun Free Online FPS Shooting Game       14464235  500.0 M   \n",
      "\n",
      "   average rating  growth (30 days)  growth (60 days)  price     category  \\\n",
      "0               4               2.1               6.9    0.0  GAME ACTION   \n",
      "1               4               1.8               3.6    0.0  GAME ACTION   \n",
      "2               4               1.5               3.2    0.0  GAME ACTION   \n",
      "3               4               1.4               4.4    0.0  GAME ACTION   \n",
      "4               4               0.8               1.5    0.0  GAME ACTION   \n",
      "\n",
      "   5 star ratings  4 star ratings  3 star ratings  2 star ratings  \\\n",
      "0        63546766         4949507         3158756         2122183   \n",
      "1        28339753         2164478         1253185          809821   \n",
      "2        18777988         1812094         1050600          713912   \n",
      "3        13018610         1552950          774012          406184   \n",
      "4         9827328         2124154         1047741          380670   \n",
      "\n",
      "   1 star ratings   paid  \n",
      "0        12495915  False  \n",
      "1         4709492  False  \n",
      "2         4308998  False  \n",
      "3         2219794  False  \n",
      "4         1084340  False  \n",
      "Shape of the data: (1730, 15)\n",
      "<class 'pandas.core.frame.DataFrame'>\n",
      "RangeIndex: 1730 entries, 0 to 1729\n",
      "Data columns (total 15 columns):\n",
      " #   Column            Non-Null Count  Dtype  \n",
      "---  ------            --------------  -----  \n",
      " 0   rank              1730 non-null   int64  \n",
      " 1   title             1730 non-null   object \n",
      " 2   total ratings     1730 non-null   int64  \n",
      " 3   installs          1730 non-null   object \n",
      " 4   average rating    1730 non-null   int64  \n",
      " 5   growth (30 days)  1730 non-null   float64\n",
      " 6   growth (60 days)  1730 non-null   float64\n",
      " 7   price             1730 non-null   float64\n",
      " 8   category          1730 non-null   object \n",
      " 9   5 star ratings    1730 non-null   int64  \n",
      " 10  4 star ratings    1730 non-null   int64  \n",
      " 11  3 star ratings    1730 non-null   int64  \n",
      " 12  2 star ratings    1730 non-null   int64  \n",
      " 13  1 star ratings    1730 non-null   int64  \n",
      " 14  paid              1730 non-null   bool   \n",
      "dtypes: bool(1), float64(3), int64(8), object(3)\n",
      "memory usage: 191.0+ KB\n",
      "None\n",
      "              rank  total ratings  average rating  growth (30 days)  \\\n",
      "count  1730.000000   1.730000e+03     1730.000000       1730.000000   \n",
      "mean     50.386705   1.064332e+06        3.908092        321.735896   \n",
      "std      28.936742   3.429250e+06        0.290973       6018.914507   \n",
      "min       1.000000   3.299300e+04        2.000000          0.000000   \n",
      "25%      25.000000   1.759992e+05        4.000000          0.100000   \n",
      "50%      50.000000   4.286065e+05        4.000000          0.500000   \n",
      "75%      75.000000   8.837970e+05        4.000000          1.700000   \n",
      "max     100.000000   8.627313e+07        4.000000     227105.700000   \n",
      "\n",
      "       growth (60 days)        price  5 star ratings  4 star ratings  \\\n",
      "count       1730.000000  1730.000000    1.730000e+03    1.730000e+03   \n",
      "mean         122.554971     0.010942    7.622315e+05    1.164366e+05   \n",
      "std         2253.891703     0.214987    2.538658e+06    3.021631e+05   \n",
      "min            0.000000     0.000000    1.397500e+04    2.451000e+03   \n",
      "25%            0.200000     0.000000    1.277300e+05    2.064300e+04   \n",
      "50%            1.000000     0.000000    2.964340e+05    5.098050e+04   \n",
      "75%            3.300000     0.000000    6.198358e+05    1.018140e+05   \n",
      "max        69441.400000     7.490000    6.354677e+07    5.404966e+06   \n",
      "\n",
      "       3 star ratings  2 star ratings  1 star ratings  \n",
      "count    1.730000e+03    1.730000e+03    1.730000e+03  \n",
      "mean     5.706307e+04    2.710336e+04    1.014950e+05  \n",
      "std      1.495314e+05    8.154542e+04    4.083745e+05  \n",
      "min      7.180000e+02    2.660000e+02    5.450000e+02  \n",
      "25%      9.652500e+03    4.262250e+03    1.281200e+04  \n",
      "50%      2.507800e+04    1.067550e+04    3.368600e+04  \n",
      "75%      5.229500e+04    2.322875e+04    8.015725e+04  \n",
      "max      3.158756e+06    2.122183e+06    1.249592e+07  \n"
     ]
    }
   ],
   "source": [
    "# Print the first 5 rows of the data\n",
    "print(df.head())\n",
    "\n",
    "# Get the shape of the data (number of rows, number of columns)\n",
    "print(\"Shape of the data:\", df.shape)\n",
    "\n",
    "# Get information about the data types and number of non-missing values for each column\n",
    "print(df.info())\n",
    "\n",
    "# Get summary statistics for numerical columns\n",
    "print(df.describe())"
   ]
  },
  {
   "cell_type": "markdown",
   "metadata": {},
   "source": [
    "## Data cleaning and pre-processing\n",
    "\n",
    "This data is relatively clean and does not have much to clean. However, I still wanted to make sure there are no potential issue in the analysis. Using the following codes allowed me to check for missing values and remove the rows with missing values, and see if there is any duplicate rows."
   ]
  },
  {
   "cell_type": "code",
   "execution_count": 5,
   "metadata": {},
   "outputs": [
    {
     "name": "stdout",
     "output_type": "stream",
     "text": [
      "rank                0\n",
      "title               0\n",
      "total ratings       0\n",
      "installs            0\n",
      "average rating      0\n",
      "growth (30 days)    0\n",
      "growth (60 days)    0\n",
      "price               0\n",
      "category            0\n",
      "5 star ratings      0\n",
      "4 star ratings      0\n",
      "3 star ratings      0\n",
      "2 star ratings      0\n",
      "1 star ratings      0\n",
      "paid                0\n",
      "dtype: int64\n",
      "Number of duplicate rows: 0\n"
     ]
    }
   ],
   "source": [
    "#Convert installs column to float\n",
    "df['installs'] = df['installs'].apply(lambda x: float(x.replace('M',''))*1000000 if 'M' in x else (float(x.replace('k',''))*1000 if 'k' in x else x))\n",
    "\n",
    "# Removing the rows with missing values\n",
    "df.dropna(inplace=True)\n",
    "\n",
    "# Check for missing data\n",
    "print(df.isnull().sum())\n",
    "\n",
    "# Check for duplicate rows\n",
    "print(\"Number of duplicate rows:\", df.duplicated().sum())"
   ]
  },
  {
   "cell_type": "markdown",
   "metadata": {},
   "source": [
    "## Data reliability\n",
    "\n",
    "Based on the evaluation of the data, it can be concluded that the data is reliable. The data is complete with no missing values, accurate with no errors or inaccuracies, consistent with values in each column matching the expected format, valid with values in each column falling within the expected range, unique with no duplicate records, and the data source is trustworthy and credible. This high-quality data is ready for analysis, and the results obtained from it are likely to be accurate and reliable."
   ]
  },
  {
   "cell_type": "markdown",
   "metadata": {},
   "source": [
    "## Analysis and results\n",
    "\n",
    "### variables of interest\n",
    "Here are several key variables in this dataset:\n",
    "- 'growth (30 days)': This variable represents the growth of a game in terms of ratings over the past 30 days. It is a numerical variable and can be used to understand how quickly a game's popularity is increasing or decreasing.\n",
    "- 'growth (60 days)': This variable represents the growth of a game in terms of ratings over the past 60 days. It is a numerical variable and can be used to understand the longer-term trend in a game's popularity.\n",
    "- 'category': This variable represents the category of a game, such as 'ACTION', 'ARCADE', 'CARD', 'MUSIC', 'ROLE PLAYING' and so on. It is a categorical variable and can be used to understand how different categories of games are performing.\n",
    "- 'price': This variable represents the price of a game, in dollars. It is a numerical variable and can be used to understand how pricing affects the popularity and performance of mobile games.\n",
    "- 'installs': This variable represents the number of installs of a game. It is a numerical variable and can be used to understand the overall popularity of a game and how it compares to other games.\n",
    "- 'rank': This variable represents the rank of a game within its category. It is a numerical variable and can be used to understand how a game compares to other games in its category in terms of popularity and performance.\n",
    "\n",
    "The following three charts will summarize these key variables and some of their correlations."
   ]
  },
  {
   "cell_type": "code",
   "execution_count": 6,
   "metadata": {},
   "outputs": [
    {
     "data": {
      "image/png": "[encoded data removed]",
      "text/plain": [
       "<Figure size 720x360 with 1 Axes>"
      ]
     },
     "metadata": {
      "needs_background": "light"
     },
     "output_type": "display_data"
    }
   ],
   "source": [
    "# Group the data by category and calculate the mean growth for each group\n",
    "growth_by_category = df.groupby('category')[['growth (30 days)', 'growth (60 days)']].mean().sort_values(by=['growth (30 days)', 'growth (60 days)'], ascending=[True, False])\n",
    "\n",
    "# Plot the mean growth for each category\n",
    "growth_by_category.plot(kind='barh', stacked=False, figsize=(10, 5))\n",
    "\n",
    "# Add labels and title to the chart\n",
    "plt.xlabel(\"Category\")\n",
    "plt.ylabel(\"Mean Growth\")\n",
    "plt.title(\"Mean Growth by Category\")\n",
    "\n",
    "# Show the chart\n",
    "plt.show()"
   ]
  },
  {
   "cell_type": "markdown",
   "metadata": {},
   "source": [
    "This code groups the data by 'category' and calculate the mean 'growth (30 days)' and 'growth (60 days)' for each group. Then it will plot a bar chart showing the mean growth for each category. The chart will have two bars for each category, one for the 'growth (30 days)' and one for the 'growth (60 days)'. The stacked parameter is set to False, so the bars will be plotted side by side.\n",
    "\n",
    "We can see from the summary that casino games on average have the highest growth within 30 days, with over 2000 units, more than double the amount of trivia games, which is the second fastest growing genre in a month, followed by card games. Board games, on the other hand, has the highest growth over 60-day periods, with over 500 units, followed by strategy games and card games. "
   ]
  },
  {
   "cell_type": "code",
   "execution_count": 7,
   "metadata": {},
   "outputs": [
    {
     "data": {
      "image/png": "[encoded data removed]",
      "text/plain": [
       "<Figure size 720x432 with 1 Axes>"
      ]
     },
     "metadata": {
      "needs_background": "light"
     },
     "output_type": "display_data"
    }
   ],
   "source": [
    "# Filtering the data to only include categories with non-zero prices\n",
    "df_price = df[df['price']>0]\n",
    "\n",
    "#grouping the data by category\n",
    "df_price = df_price.groupby('category')['price'].mean().sort_values(ascending = True)\n",
    "\n",
    "#Setting the size of the figure\n",
    "plt.figure(figsize=(10,6))\n",
    "\n",
    "#Plotting the bar chart\n",
    "df_price.plot(kind='barh')\n",
    "\n",
    "#Giving the chart a title\n",
    "plt.title('Price by category')\n",
    "\n",
    "#Labelling the x and y axis\n",
    "plt.xlabel('Category')\n",
    "plt.ylabel('Price')\n",
    "\n",
    "plt.show()"
   ]
  },
  {
   "cell_type": "markdown",
   "metadata": {},
   "source": [
    "This code will group the data by the 'category' column, and calculate the mean 'price' for each group. The result is then sorted by the 'price' mean. Then, it will create a bar chart to show the mean 'price' for each category, with the y-axis showing the categories and the x-axis showing the mean prices.\n",
    "\n",
    "The bar chart shows that only five types of game required payment to download and play. The highest to lowest are arcade, card, trivia, music and role playing games. Interestingly, combining with the previous chart, we can see that although card games and trivia games require payment, they are still the fastest growing games in 30 days."
   ]
  },
  {
   "cell_type": "code",
   "execution_count": 8,
   "metadata": {},
   "outputs": [
    {
     "data": {
      "image/png": "[encoded data removed]",
      "text/plain": [
       "<Figure size 1080x432 with 1 Axes>"
      ]
     },
     "metadata": {
      "needs_background": "light"
     },
     "output_type": "display_data"
    }
   ],
   "source": [
    "#Select the top 10 games by rank, group by category and sort the result by installs\n",
    "top_10_games_by_category = df[df['rank'] <= 10].groupby('category').sum().sort_values(by='installs', ascending=True)\n",
    "\n",
    "# Create a bar chart of top 10 games by category\n",
    "top_10_games_by_category['installs'].plot(kind='barh', figsize=(15,6), fontsize=14)\n",
    "\n",
    "# Add x-label\n",
    "plt.xlabel(\"Category\", fontsize=14)\n",
    "\n",
    "# Add y-label\n",
    "plt.ylabel(\"Installs\", fontsize=14)\n",
    "\n",
    "# Add title\n",
    "plt.title(\"Top 10 Games by Category (by installs)\", fontsize=16)\n",
    "\n",
    "plt.show()"
   ]
  },
  {
   "cell_type": "markdown",
   "metadata": {},
   "source": [
    "The top_10_games_by_category variable groups the data by category, and then only select the top 10 games by rank. The plot method is used to create the bar chart, and the kind parameter is set to 'bar' to create a bar chart.\n",
    "\n",
    "From this summary we can see that top ten casual games are the most installed games, followed by action games and arcade games. Surprisingly, while trivia games and casino games both had high growth within a short period of time, their top ten games received the least install amount"
   ]
  },
  {
   "cell_type": "code",
   "execution_count": 9,
   "metadata": {},
   "outputs": [
    {
     "data": {
      "image/png": "[encoded data removed]",
      "text/plain": [
       "<Figure size 720x432 with 1 Axes>"
      ]
     },
     "metadata": {},
     "output_type": "display_data"
    }
   ],
   "source": [
    "# Create a new column to indicate if a game is free or paid\n",
    "df[\"free\"] = df[\"price\"] == 0\n",
    "\n",
    "# Group the data by the \"free\" column and calculate the count\n",
    "free_games = df.groupby(\"free\").size().reset_index(name=\"count\")\n",
    "\n",
    "#Setting the size of the figure\n",
    "plt.figure(figsize=(10,6))\n",
    "\n",
    "# Create a pie chart to visualize the distribution of free vs paid games\n",
    "plt.pie(free_games[\"count\"], labels=[\"Paid\", \"Free\"], autopct='%1.1f%%')\n",
    "plt.title(\"Distribution of Free vs Paid Games on Google Play Store\")\n",
    "plt.show()"
   ]
  },
  {
   "cell_type": "markdown",
   "metadata": {},
   "source": [
    "From the pie chart, we can see that the vast majority (99.6%) of the top games on the Google Play Store are free, while only a small percentage (0.4%) are paid. This suggests that the freemium business model is highly prevalent in the mobile gaming industry, with most developers choosing to offer their games for free and monetizing through in-app purchases or other forms of in-game advertising.\n",
    "\n",
    "This also implies that the majority of the top games on the Google Play Store are not relying on the revenue from the initial purchase, but on the revenue generated by in-app purchases and in-game advertising, which can be seen as a way of increasing perceived value of the freemium service as the study by Hamari et al.(2020) mentioned.\n",
    "\n",
    "Additionally, this information can be useful for game developers and marketers when considering the pricing strategy for their own mobile games. It may be more beneficial to consider a freemium model rather than charging for the initial download, as it seems to be the more popular and successful choice among top games on the Google Play Store."
   ]
  },
  {
   "cell_type": "code",
   "execution_count": 10,
   "metadata": {},
   "outputs": [
    {
     "data": {
      "image/png": "[encoded data removed]",
      "text/plain": [
       "<Figure size 864x432 with 1 Axes>"
      ]
     },
     "metadata": {
      "needs_background": "light"
     },
     "output_type": "display_data"
    }
   ],
   "source": [
    "plt.figure(figsize=(12,6))\n",
    "\n",
    "# Create a histogram of installs for games with different prices\n",
    "plt.hist(df[df['price'] == 0]['installs'], bins = 20, color = 'blue', label = 'Free Games')\n",
    "plt.hist(df[df['price'] > 0]['installs'], bins = 20, color = 'red', label = 'Paid Games')\n",
    "\n",
    "\n",
    "# Add labels and title\n",
    "plt.xlabel('Installs')\n",
    "plt.ylabel('Number of Games')\n",
    "plt.title('Relationship between Price and Installs for Mobile Games on the Google Play Store')\n",
    "\n",
    "# Add a legend\n",
    "plt.legend()\n",
    "\n",
    "# Show the plot\n",
    "plt.show()"
   ]
  },
  {
   "cell_type": "markdown",
   "metadata": {},
   "source": [
    "This code creates a histogram that shows the distribution of installs for free games (in blue) and paid games (in red). The histogram will allow us to see if there is a difference in the number of installs between games with different prices.\n",
    "\n",
    "From the histogram, it is clear that free games have significantly more installs than paid games on the Google Play Store. This suggests that most users are more likely to download and play games that are available for free rather than games that require payment.\n",
    "\n",
    "This could indicate that mobile games that are free to download and play are more likely to be successful in terms of user engagement and downloads. However, it should be noted that while free games may have more installs, they may not necessarily be more profitable in terms of monetization. Free games may rely on in-app purchases and advertising revenue to generate income.\n",
    "\n",
    "On the other hand, paid games have less installs but they generate revenue from their price, this means that if a game is good enough, users are willing to pay for it. This suggests that games that have a unique value proposition and a high level of quality may still be successful even if they are not free.\n",
    "\n",
    "One possible strategy for mobile game developers and publishers would be to consider offering a free version of their game with in-app purchases or ads, and also a paid version without them. This would allow users to try the game for free before deciding to pay for it, while still generating revenue from the free version."
   ]
  },
  {
   "cell_type": "code",
   "execution_count": 11,
   "metadata": {},
   "outputs": [
    {
     "data": {
      "image/png": "[encoded data removed]",
      "text/plain": [
       "<Figure size 864x432 with 1 Axes>"
      ]
     },
     "metadata": {
      "needs_background": "light"
     },
     "output_type": "display_data"
    }
   ],
   "source": [
    "plt.figure(figsize=(12,6))\n",
    "\n",
    "# Scatter plot of rank and average rating\n",
    "plt.scatter(df['rank'], df['average rating'])\n",
    "plt.xlabel('Rank')\n",
    "plt.ylabel('Average Rating')\n",
    "plt.title('Rank vs Average Rating')\n",
    "plt.show()"
   ]
  },
  {
   "cell_type": "markdown",
   "metadata": {},
   "source": [
    "This code creates a scatter plot that visualizes the relationship between the rank of mobile games on the Google Play Storeand the average rating of those games.\n",
    "\n",
    "The result of the scatter plot for average rating vs. pricing shows that most of the data points are concentrated around the average rating of 3 and 4. This suggests that the majority of mobile games on the Google Play Store have an average rating that falls within this range.\n",
    "\n",
    "From this analysis, we can conclude that the majority of mobile games on the Google Play Store are rated positively by users, with most of them having an average rating of 3 or 4. This indicates that users generally have a positive experience with these games.\n",
    "\n",
    "Additionally, we can observe that there is no clear relationship between pricing and average rating, as the data points are spread across the entire range of prices and average ratings. This suggests that pricing does not have a significant impact on the average rating of mobile games on the Google Play Store."
   ]
  },
  {
   "cell_type": "markdown",
   "metadata": {},
   "source": [
    "## Conclusions\n",
    "\n",
    "In conclusion, this data analysis aimed to examine the relationship between pricing and performance for mobile games on the Google Play Store. Through the use of scatter plot and other analysis techniques, I was able to gain insights into the factors that influence the popularity and performance of mobile games.\n",
    "\n",
    "I found that the majority of mobile games on the Google Play Store have an average rating that falls within the range of 3 to 4, indicating that users generally have a positive experience with these games. Additionally, there is no clear relationship between pricing and average rating, suggesting that pricing does not have a significant impact on the average rating of mobile games.\n",
    "\n",
    "Furthermore, it is observed that the growth of a game in terms of ratings over the past 30 days and 60 days, and found that different categories of games have different growth rate. I also discovered that the relationship between price and installs for mobile games on the Google Play Store is not clear, and it depends on the category of the game.\n",
    "\n",
    "Finally, I found that rank is a good indicator of the popularity and performance of mobile games, and different categories of games have different performance based on their rank.\n",
    "\n",
    "It's important to note that this analysis is based on a small sample of data, and a more comprehensive analysis with a larger dataset would be needed to draw more accurate conclusions about the relationship between pricing and performance for mobile games on the Google Play Store.\n",
    "\n",
    "I must say, this data analysis process was a great learning experience for me. It was amazing to see how we can extract meaningful insights from a dataset and understand the underlying patterns and trends in the data. I enjoyed the working process and investigating the impact of pricing on mobile game success.\n",
    "\n",
    "I particularly liked how I was able to use different analysis techniques like bar chart to visualize the data and make it more understandable. It was also interesting to see how to use the growth of a game in terms of ratings over the past 30 days and 60 days to understand the popularity of a game.\n",
    "\n",
    "I also found it intriguing to see how the relationship between price and installs for mobile games on the Google Play Store is not clear, and it depends on the category of the game. This highlights the complexity of the mobile gaming industry and the multiple factors that influence the success of a game. It also underlines the importance of understanding the specific context and target audience of a game before determining its pricing strategy.\n",
    "\n",
    "Another aspect that I found interesting is the relationship between rank and the popularity and performance of mobile games on the Google Play Store. It was fascinating to see how different categories of games have different performance based on their rank, and this highlights the importance of understanding the competition in the market.\n",
    "\n",
    "One thing that I found challenging was working with a the data that misses some key information. It made it a bit difficult to draw accurate conclusions about the relationship between pricing and performance for mobile games on the Google Play Store. However, I understand that this is a common limitation when working with real-world data.\n",
    "\n",
    "Overall, this data analysis process was a great opportunity for me to apply the concepts and techniques I have learned and enhance my skills in data analysis. I am excited to continue exploring more datasets and uncovering new insights"
   ]
  },
  {
   "cell_type": "markdown",
   "metadata": {},
   "source": [
    "## References\n",
    "\n",
    "Hamari, J., Hanner, N., & Koivisto, J. (2020). “Why pay premium in freemium services?” A study on perceived value, continued use and purchase intentions in free-to-play games. International Journal of Information Management, 51, 102040. https://doi.org/10.1016/j.ijinfomgt.2019.102040"
   ]
  },
  {
   "cell_type": "markdown",
   "metadata": {},
   "source": [
    "## Appendices"
   ]
  },
  {
   "cell_type": "markdown",
   "metadata": {
    "editable": false
   },
   "source": [
    "## Word Count\n",
    "\n",
    "The following code will count the number of words in Markdown cells. Code cells are not included.\n",
    "\n",
    "- `Main word count` is the number of words in the main body of the text, *excluding* references or appendices.\n",
    "- `References and appendices word count` is the number of words in any references or appendices.\n",
    "\n",
    "Only `Main word count` relates to the assignment word limit. There is no limit to the number of words that can be included in references or appendices. Please note that appendices should only be used to provide context or supporting information. *No marks will be directly awarded for material submitted in appendices*.\n",
    "\n",
    "Important:\n",
    "\n",
    "- Please do not modify the word count code!\n",
    "- To exclude references from your word count **you must** have a cell that starts with the text `## References`. Everything below this cell will not count towards the main word count.\n",
    "- If you are submitting additional material as appendices **you must** have a cell that starts with the text `## Appendices`. Everything below this cell will not count towards the main word count. If you do not have any appendices you can delete the `## Appendices` cell.\n",
    "- Code comments should only be used to explain details of the implementation, not for discussing your findings. All analysis commentary **must** be written in Markdown cells. *No marks will be awarded for analysis discussion submitted as comments in code cells*."
   ]
  },
  {
   "cell_type": "code",
   "execution_count": 12,
   "metadata": {
    "editable": false,
    "tags": []
   },
   "outputs": [
    {
     "data": {
      "application/javascript": [
       "\n",
       "// Run this cell to update your word count.\n",
       "\n",
       "function wordcount() {\n",
       "    let wordCount = 0\n",
       "    let extraCount = 0\n",
       "    let mainBody = true\n",
       "\n",
       "    let cells = Jupyter.notebook.get_cells()\n",
       "    cells.forEach((cell) => {\n",
       "        if (cell.cell_type == 'markdown') {\n",
       "            let text = cell.get_text()\n",
       "            // Stop counting as main body when get to References or Appendices.\n",
       "            if (text.startsWith('## References') ||\n",
       "                text.startsWith('## Appendices')) {\n",
       "                mainBody = false\n",
       "            }\n",
       "            if (text.startsWith('## Word Count')) {\n",
       "                text = ''\n",
       "            }\n",
       "            if (text) {\n",
       "                let words = text.toLowerCase().match(/\\b[a-z\\d]+\\b/g)\n",
       "                if (words) {\n",
       "                    let cellCount = words.length\n",
       "                    if (mainBody) {\n",
       "                        wordCount += cellCount\n",
       "                    } else {\n",
       "                        extraCount += cellCount\n",
       "                    }\n",
       "                }\n",
       "            }\n",
       "        }\n",
       "    })\n",
       "    return [wordCount, extraCount]\n",
       "}\n",
       "\n",
       "let wc = wordcount()\n",
       "element.append(`Main word count: ${wc[0]} (References and appendices word count: ${wc[1]})`)\n"
      ],
      "text/plain": [
       "<IPython.core.display.Javascript object>"
      ]
     },
     "metadata": {},
     "output_type": "display_data"
    }
   ],
   "source": [
    "%%js\n",
    "\n",
    "// Run this cell to update your word count.\n",
    "\n",
    "function wordcount() {\n",
    "    let wordCount = 0\n",
    "    let extraCount = 0\n",
    "    let mainBody = true\n",
    "\n",
    "    let cells = Jupyter.notebook.get_cells()\n",
    "    cells.forEach((cell) => {\n",
    "        if (cell.cell_type == 'markdown') {\n",
    "            let text = cell.get_text()\n",
    "            // Stop counting as main body when get to References or Appendices.\n",
    "            if (text.startsWith('## References') ||\n",
    "                text.startsWith('## Appendices')) {\n",
    "                mainBody = false\n",
    "            }\n",
    "            if (text.startsWith('## Word Count')) {\n",
    "                text = ''\n",
    "            }\n",
    "            if (text) {\n",
    "                let words = text.toLowerCase().match(/\\b[a-z\\d]+\\b/g)\n",
    "                if (words) {\n",
    "                    let cellCount = words.length\n",
    "                    if (mainBody) {\n",
    "                        wordCount += cellCount\n",
    "                    } else {\n",
    "                        extraCount += cellCount\n",
    "                    }\n",
    "                }\n",
    "            }\n",
    "        }\n",
    "    })\n",
    "    return [wordCount, extraCount]\n",
    "}\n",
    "\n",
    "let wc = wordcount()\n",
    "element.append(`Main word count: ${wc[0]} (References and appendices word count: ${wc[1]})`)"
   ]
  }
 ],
 "metadata": {
  "celltoolbar": "Edit Metadata",
  "kernelspec": {
   "display_name": "Python 3",
   "language": "python",
   "name": "python3"
  },
  "language_info": {
   "codemirror_mode": {
    "name": "ipython",
    "version": 3
   },
   "file_extension": ".py",
   "mimetype": "text/x-python",
   "name": "python",
   "nbconvert_exporter": "python",
   "pygments_lexer": "ipython3",
   "version": "3.8.3"
  }
 },
 "nbformat": 4,
 "nbformat_minor": 5
}
